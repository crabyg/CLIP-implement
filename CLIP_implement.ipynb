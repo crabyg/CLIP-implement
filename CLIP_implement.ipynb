{
  "cells": [
    {
      "cell_type": "code",
      "execution_count": 5,
      "metadata": {
        "id": "hLPf1d8HgwBy"
      },
      "outputs": [
        {
          "name": "stdout",
          "output_type": "stream",
          "text": [
            "Torch version: 2.0.1\n",
            "['RN50', 'RN101', 'RN50x4', 'RN50x16', 'RN50x64', 'ViT-B/32', 'ViT-B/16', 'ViT-L/14', 'ViT-L/14@336px']\n",
            "Total: 158912, Train: 111238, Validation: 23836, Test: 23838\n"
          ]
        }
      ],
      "source": [
        "import json\n",
        "from PIL import Image\n",
        "\n",
        "import torch\n",
        "import torch.nn as nn\n",
        "from torch.utils.data import DataLoader\n",
        "import clip\n",
        "import numpy as np\n",
        "import torch\n",
        "import pandas as pd\n",
        "from torch.utils.data import Dataset\n",
        "import matplotlib.pyplot as plt\n",
        "import os\n",
        "from sklearn.metrics import f1_score\n",
        "from tqdm.auto import tqdm\n",
        "from sklearn.metrics import confusion_matrix\n",
        "\n",
        "print(\"Torch version:\", torch.__version__)\n",
        "print(clip.available_models())\n",
        "\n",
        "clip.available_models()\n",
        "\n",
        "device = \"cuda:0\" if torch.cuda.is_available() else \"cpu\" # If using GPU then use mixed precision training.\n",
        "_, preprocess = clip.load(\"RN101\",device=device,jit=False) #Must set jit=False for training\n",
        "#ViT-L/14@336px\n",
        "\n",
        "\n",
        "# CSV 파일을 DataFrame으로 로드합니다.\n",
        "df = pd.read_csv(\"train.csv\")\n",
        "df = df[df['caption'].apply(lambda x: len(x.split()) <= 74)] # 74어절 이상은 제거\n",
        "# DataFrame의 전체 길이\n",
        "total_len = len(df)\n",
        "\n",
        "# 각 부분의 길이를 계산합니다.\n",
        "train_len = int(total_len * 0.7)  # 학습 데이터는 전체 데이터의 70%\n",
        "val_len = int(total_len * 0.15)   # 검증 데이터는 전체 데이터의 15%\n",
        "\n",
        "# 학습, 검증, 테스트 데이터 세트를 분할합니다.\n",
        "train_df = df.iloc[:train_len]\n",
        "val_df = df.iloc[train_len:train_len + val_len]\n",
        "test_df = df.iloc[train_len + val_len:]\n",
        "\n",
        "# 결과 확인\n",
        "print(f\"Total: {total_len}, Train: {len(train_df)}, Validation: {len(val_df)}, Test: {len(test_df)}\")\n",
        "\n",
        "BATCH_SIZE = 32\n",
        "EPOCH = 50"
      ]
    },
    {
      "cell_type": "code",
      "execution_count": 9,
      "metadata": {},
      "outputs": [],
      "source": [
        "from transformers import GPT2Tokenizer, GPT2Model\n",
        "import torch\n",
        "class image_caption_dataset(Dataset):\n",
        "    def __init__(self, df):\n",
        "\n",
        "        self.images = df[\"image\"].tolist()\n",
        "        self.caption = df[\"caption\"].tolist()\n",
        "    def __len__(self):\n",
        "        return len(self.caption)\n",
        "\n",
        "    def __getitem__(self, idx):\n",
        "\n",
        "        images = preprocess(Image.open(\"./images/flickr30k_images/\"+self.images[idx])) #preprocess from clip.load\n",
        "        caption =  self.caption[idx]\n",
        "        return images,caption\n",
        "\n",
        "Train_df = image_caption_dataset(train_df)\n",
        "Val_df = image_caption_dataset(val_df)\n",
        "\n",
        "train_dataloader = DataLoader(Train_df, batch_size = BATCH_SIZE, shuffle = True) #Define your own dataloader\n",
        "valid_dataloader = DataLoader(Val_df, batch_size = BATCH_SIZE, shuffle = True) #Define your own dataloader"
      ]
    },
    {
      "cell_type": "code",
      "execution_count": 10,
      "metadata": {},
      "outputs": [],
      "source": [
        "import torch\n",
        "import torchvision.models as models\n",
        "import torch.nn as nn\n",
        "import torch.nn.functional as F\n",
        "import timm\n",
        "\n",
        "class Image_Encoder(nn.Module):\n",
        "    def __init__(self):\n",
        "        super(Image_Encoder, self).__init__()\n",
        "        self.base_model = timm.create_model('resnet101', pretrained=True, num_classes=256)\n",
        "        self.fc1 = nn.Linear(256, 128)\n",
        "        \n",
        "    def forward(self, x):\n",
        "        x = self.base_model(x)\n",
        "        x = self.fc1(x)\n",
        "        return x\n",
        "\n",
        "class Text_Encoder(nn.Module):\n",
        "    def __init__(self):\n",
        "        super(Text_Encoder, self).__init__()\n",
        "        self.base_model = GPT2Model.from_pretrained('gpt2')\n",
        "        self.fc1 = nn.Linear(768, 128)\n",
        "\n",
        "    def forward(self, input_ids, attention_mask):\n",
        "        # 디바이스 할당이 필요한 경우, 여기서 input_ids와 attention_mask를 디바이스로 이동\n",
        "        outputs = self.base_model(input_ids=input_ids, attention_mask=attention_mask)\n",
        "        x = outputs.last_hidden_state[:, 0, :]  # 첫 번째 토큰의 임베딩 사용, 전체 배치에 대해\n",
        "        x = self.fc1(x)\n",
        "        return x  # 128차원의 출력 벡터\n",
        "\n",
        "\n",
        "class Clip_Encoder(nn.Module):\n",
        "    def __init__(self):\n",
        "        super(Clip_Encoder, self).__init__()\n",
        "        self.img_feature = Image_Encoder()\n",
        "        self.text_feature = Text_Encoder()\n",
        "        \n",
        "    def forward(self, img, input_ids, attention_mask):\n",
        "        img_feature = self.img_feature(img)\n",
        "        text_feature = self.text_feature(input_ids, attention_mask)\n",
        "\n",
        "        I_e = F.normalize(img_feature, p=2, dim=1)\n",
        "        T_e = F.normalize(text_feature, p=2, dim=1)\n",
        "        logits = torch.matmul(I_e, T_e.T) * torch.exp(torch.tensor(1))\n",
        "\n",
        "        return logits  #img_feature, text_feature # 128 shape"
      ]
    },
    {
      "cell_type": "code",
      "execution_count": 11,
      "metadata": {},
      "outputs": [],
      "source": [
        "import torch.nn.functional as F\n",
        "from torch.utils.data import Dataset\n",
        "import torch.optim as optim\n",
        "\n",
        "model = Clip_Encoder()\n",
        "model.to(device)\n",
        "optimizer = torch.optim.Adam(params = model.parameters(), lr = 0.0001, weight_decay = 0.0005)\n",
        "# scheduler = torch.optim.lr_scheduler.ReduceLROnPlateau(optimizer, mode='min', factor=0.5, patience=1, threshold_mode='abs',min_lr=1e-8, verbose=True)\n",
        "loss_img = nn.CrossEntropyLoss()\n",
        "loss_txt = nn.CrossEntropyLoss()"
      ]
    },
    {
      "cell_type": "code",
      "execution_count": 5,
      "metadata": {},
      "outputs": [
        {
          "name": "stderr",
          "output_type": "stream",
          "text": [
            "100%|██████████| 250/250 [03:13<00:00,  1.29it/s]\n",
            "100%|██████████| 63/63 [00:21<00:00,  2.91it/s]\n"
          ]
        },
        {
          "name": "stdout",
          "output_type": "stream",
          "text": [
            "Confusion Matrix for Validation at Epoch 1:\n",
            "[[18  6  5 ...  2  1  2]\n",
            " [12  5  6 ...  0  1  1]\n",
            " [ 6  7 10 ...  1  1  0]\n",
            " ...\n",
            " [11  5  5 ...  0  2  1]\n",
            " [19  4  4 ...  0  2  1]\n",
            " [14  4  3 ...  0  1  3]]\n",
            "Epoch 1/50\n",
            "Train Loss: 3.4666, Train Image Accuracy: 0.0328\n",
            "Validation Loss: 3.4542, Validation Image Accuracy: 0.0405\n",
            "=====================================================================\n",
            "New best model found at epoch 1 with Validation Loss: 3.4542. Saving model.\n"
          ]
        },
        {
          "name": "stderr",
          "output_type": "stream",
          "text": [
            "100%|██████████| 250/250 [03:06<00:00,  1.34it/s]\n",
            "100%|██████████| 63/63 [00:21<00:00,  2.97it/s]\n"
          ]
        },
        {
          "name": "stdout",
          "output_type": "stream",
          "text": [
            "Confusion Matrix for Validation at Epoch 2:\n",
            "[[1 5 1 ... 0 0 3]\n",
            " [1 6 3 ... 3 1 2]\n",
            " [0 4 0 ... 0 1 0]\n",
            " ...\n",
            " [2 3 4 ... 3 1 2]\n",
            " [2 1 1 ... 3 0 4]\n",
            " [0 3 3 ... 0 1 2]]\n",
            "Epoch 2/50\n",
            "Train Loss: 3.4109, Train Image Accuracy: 0.0462\n",
            "Validation Loss: 3.4588, Validation Image Accuracy: 0.0445\n"
          ]
        },
        {
          "name": "stderr",
          "output_type": "stream",
          "text": [
            "100%|██████████| 250/250 [03:02<00:00,  1.37it/s]\n",
            "100%|██████████| 63/63 [00:21<00:00,  2.94it/s]\n"
          ]
        },
        {
          "name": "stdout",
          "output_type": "stream",
          "text": [
            "Confusion Matrix for Validation at Epoch 3:\n",
            "[[7 4 2 ... 0 3 2]\n",
            " [6 7 3 ... 1 1 1]\n",
            " [2 3 6 ... 5 2 3]\n",
            " ...\n",
            " [6 1 1 ... 1 4 2]\n",
            " [3 6 0 ... 0 3 4]\n",
            " [4 6 3 ... 2 3 2]]\n",
            "Epoch 3/50\n",
            "Train Loss: 3.2596, Train Image Accuracy: 0.0655\n",
            "Validation Loss: 3.4588, Validation Image Accuracy: 0.0570\n"
          ]
        },
        {
          "name": "stderr",
          "output_type": "stream",
          "text": [
            "100%|██████████| 250/250 [03:02<00:00,  1.37it/s]\n",
            "100%|██████████| 63/63 [00:21<00:00,  2.90it/s]\n"
          ]
        },
        {
          "name": "stdout",
          "output_type": "stream",
          "text": [
            "Confusion Matrix for Validation at Epoch 4:\n",
            "[[7 1 4 ... 1 1 0]\n",
            " [8 8 1 ... 2 3 1]\n",
            " [3 4 4 ... 1 1 0]\n",
            " ...\n",
            " [6 2 2 ... 4 2 1]\n",
            " [4 1 3 ... 1 2 3]\n",
            " [6 4 2 ... 0 0 2]]\n",
            "Epoch 4/50\n",
            "Train Loss: 3.1723, Train Image Accuracy: 0.0829\n",
            "Validation Loss: 3.4653, Validation Image Accuracy: 0.0590\n"
          ]
        },
        {
          "name": "stderr",
          "output_type": "stream",
          "text": [
            "100%|██████████| 250/250 [03:03<00:00,  1.36it/s]\n",
            "100%|██████████| 63/63 [00:20<00:00,  3.02it/s]\n"
          ]
        },
        {
          "name": "stdout",
          "output_type": "stream",
          "text": [
            "Confusion Matrix for Validation at Epoch 5:\n",
            "[[2 1 5 ... 1 1 0]\n",
            " [5 4 4 ... 1 1 3]\n",
            " [3 6 6 ... 5 1 2]\n",
            " ...\n",
            " [6 1 2 ... 1 1 0]\n",
            " [6 4 3 ... 2 2 1]\n",
            " [2 4 3 ... 4 3 3]]\n",
            "Epoch 5/50\n",
            "Train Loss: 3.1265, Train Image Accuracy: 0.0944\n",
            "Validation Loss: 3.4372, Validation Image Accuracy: 0.0525\n",
            "=====================================================================\n",
            "New best model found at epoch 5 with Validation Loss: 3.4372. Saving model.\n"
          ]
        },
        {
          "name": "stderr",
          "output_type": "stream",
          "text": [
            "100%|██████████| 250/250 [03:02<00:00,  1.37it/s]\n",
            "100%|██████████| 63/63 [00:21<00:00,  2.94it/s]\n"
          ]
        },
        {
          "name": "stdout",
          "output_type": "stream",
          "text": [
            "Confusion Matrix for Validation at Epoch 6:\n",
            "[[5 2 2 ... 1 2 3]\n",
            " [3 5 4 ... 0 1 3]\n",
            " [3 3 5 ... 0 0 2]\n",
            " ...\n",
            " [3 1 3 ... 1 0 3]\n",
            " [3 3 1 ... 0 1 4]\n",
            " [1 5 3 ... 0 3 5]]\n",
            "Epoch 6/50\n",
            "Train Loss: 3.0874, Train Image Accuracy: 0.0951\n",
            "Validation Loss: 3.4992, Validation Image Accuracy: 0.0545\n"
          ]
        },
        {
          "name": "stderr",
          "output_type": "stream",
          "text": [
            "100%|██████████| 250/250 [03:02<00:00,  1.37it/s]\n",
            "100%|██████████| 63/63 [00:21<00:00,  2.96it/s]\n"
          ]
        },
        {
          "name": "stdout",
          "output_type": "stream",
          "text": [
            "Confusion Matrix for Validation at Epoch 7:\n",
            "[[6 2 3 ... 0 1 1]\n",
            " [6 7 2 ... 0 1 0]\n",
            " [7 3 2 ... 1 1 2]\n",
            " ...\n",
            " [5 6 2 ... 1 0 1]\n",
            " [7 2 4 ... 0 0 0]\n",
            " [7 7 1 ... 1 0 2]]\n",
            "Epoch 7/50\n",
            "Train Loss: 3.0721, Train Image Accuracy: 0.1037\n",
            "Validation Loss: 3.4899, Validation Image Accuracy: 0.0485\n"
          ]
        },
        {
          "name": "stderr",
          "output_type": "stream",
          "text": [
            "100%|██████████| 250/250 [03:04<00:00,  1.36it/s]\n",
            "100%|██████████| 63/63 [00:20<00:00,  3.01it/s]\n"
          ]
        },
        {
          "name": "stdout",
          "output_type": "stream",
          "text": [
            "Confusion Matrix for Validation at Epoch 8:\n",
            "[[4 6 3 ... 1 0 3]\n",
            " [5 3 1 ... 1 1 2]\n",
            " [7 4 5 ... 1 2 2]\n",
            " ...\n",
            " [5 3 4 ... 2 1 2]\n",
            " [1 2 2 ... 0 5 1]\n",
            " [5 6 2 ... 2 1 2]]\n",
            "Epoch 8/50\n",
            "Train Loss: 3.0502, Train Image Accuracy: 0.1165\n",
            "Validation Loss: 3.5030, Validation Image Accuracy: 0.0605\n"
          ]
        },
        {
          "name": "stderr",
          "output_type": "stream",
          "text": [
            "100%|██████████| 250/250 [03:04<00:00,  1.36it/s]\n",
            "100%|██████████| 63/63 [00:21<00:00,  2.90it/s]\n"
          ]
        },
        {
          "name": "stdout",
          "output_type": "stream",
          "text": [
            "Confusion Matrix for Validation at Epoch 9:\n",
            "[[ 9  3  2 ...  0  3  1]\n",
            " [ 4  7  5 ...  2  2  0]\n",
            " [ 6  3  4 ...  2  3  0]\n",
            " ...\n",
            " [10  1  0 ...  3  2  1]\n",
            " [ 7  2  1 ...  1  3  2]\n",
            " [ 8  4  1 ...  2  1  4]]\n",
            "Epoch 9/50\n",
            "Train Loss: 3.0225, Train Image Accuracy: 0.1141\n",
            "Validation Loss: 3.4876, Validation Image Accuracy: 0.0540\n"
          ]
        },
        {
          "name": "stderr",
          "output_type": "stream",
          "text": [
            "100%|██████████| 250/250 [03:04<00:00,  1.36it/s]\n",
            "100%|██████████| 63/63 [00:21<00:00,  2.90it/s]\n"
          ]
        },
        {
          "name": "stdout",
          "output_type": "stream",
          "text": [
            "Confusion Matrix for Validation at Epoch 10:\n",
            "[[6 3 2 ... 0 2 1]\n",
            " [6 5 2 ... 0 1 0]\n",
            " [4 5 7 ... 0 2 1]\n",
            " ...\n",
            " [6 5 1 ... 2 1 0]\n",
            " [5 4 3 ... 2 2 0]\n",
            " [3 3 0 ... 1 0 3]]\n",
            "Epoch 10/50\n",
            "Train Loss: 3.0084, Train Image Accuracy: 0.1184\n",
            "Validation Loss: 3.5757, Validation Image Accuracy: 0.0490\n"
          ]
        },
        {
          "name": "stderr",
          "output_type": "stream",
          "text": [
            "100%|██████████| 250/250 [02:54<00:00,  1.43it/s]\n",
            "100%|██████████| 63/63 [00:20<00:00,  3.09it/s]\n"
          ]
        },
        {
          "name": "stdout",
          "output_type": "stream",
          "text": [
            "Confusion Matrix for Validation at Epoch 11:\n",
            "[[ 9  2  2 ...  2  1  2]\n",
            " [ 6  4  4 ...  2  0  2]\n",
            " [ 6  4  7 ...  2  0  0]\n",
            " ...\n",
            " [10  4  2 ...  1  0  0]\n",
            " [ 7  6  8 ...  0  1  2]\n",
            " [ 4  2  3 ...  1  0  3]]\n",
            "Epoch 11/50\n",
            "Train Loss: 2.9949, Train Image Accuracy: 0.1314\n",
            "Validation Loss: 3.5079, Validation Image Accuracy: 0.0465\n"
          ]
        },
        {
          "name": "stderr",
          "output_type": "stream",
          "text": [
            "100%|██████████| 250/250 [02:54<00:00,  1.44it/s]\n",
            "100%|██████████| 63/63 [00:20<00:00,  3.06it/s]\n"
          ]
        },
        {
          "name": "stdout",
          "output_type": "stream",
          "text": [
            "Confusion Matrix for Validation at Epoch 12:\n",
            "[[10  3  3 ...  3  1  0]\n",
            " [ 5  7  2 ...  1  1  1]\n",
            " [ 2  5  9 ...  2  0  2]\n",
            " ...\n",
            " [ 9  5  6 ...  0  0  1]\n",
            " [ 6  3  0 ...  0  6  1]\n",
            " [ 7  3  5 ...  0  4  4]]\n",
            "Epoch 12/50\n",
            "Train Loss: 2.9788, Train Image Accuracy: 0.1371\n",
            "Validation Loss: 3.5391, Validation Image Accuracy: 0.0570\n"
          ]
        },
        {
          "name": "stderr",
          "output_type": "stream",
          "text": [
            "100%|██████████| 250/250 [02:52<00:00,  1.45it/s]\n",
            "100%|██████████| 63/63 [00:20<00:00,  3.12it/s]\n"
          ]
        },
        {
          "name": "stdout",
          "output_type": "stream",
          "text": [
            "Confusion Matrix for Validation at Epoch 13:\n",
            "[[10  6  6 ...  1  2  0]\n",
            " [ 3  8  5 ...  3  1  1]\n",
            " [ 6  6  2 ...  1  1  0]\n",
            " ...\n",
            " [ 8  2  4 ...  5  3  1]\n",
            " [ 5  8  5 ...  2  3  2]\n",
            " [10  5  7 ...  2  0  2]]\n",
            "Epoch 13/50\n",
            "Train Loss: 2.9590, Train Image Accuracy: 0.1406\n",
            "Validation Loss: 3.5233, Validation Image Accuracy: 0.0520\n"
          ]
        },
        {
          "name": "stderr",
          "output_type": "stream",
          "text": [
            "100%|██████████| 250/250 [02:48<00:00,  1.48it/s]\n",
            "100%|██████████| 63/63 [00:20<00:00,  3.14it/s]\n"
          ]
        },
        {
          "name": "stdout",
          "output_type": "stream",
          "text": [
            "Confusion Matrix for Validation at Epoch 14:\n",
            "[[ 3  5  3 ...  0  3  6]\n",
            " [ 6  8  4 ...  1  2  0]\n",
            " [ 3  8  7 ...  0  2  0]\n",
            " ...\n",
            " [10  6  4 ...  1  2  1]\n",
            " [ 6  5  7 ...  0  0  2]\n",
            " [ 2  5  5 ...  1  3  5]]\n",
            "Epoch 14/50\n",
            "Train Loss: 2.9541, Train Image Accuracy: 0.1492\n",
            "Validation Loss: 3.5460, Validation Image Accuracy: 0.0570\n"
          ]
        },
        {
          "name": "stderr",
          "output_type": "stream",
          "text": [
            "100%|██████████| 250/250 [02:48<00:00,  1.48it/s]\n",
            "100%|██████████| 63/63 [00:19<00:00,  3.18it/s]\n"
          ]
        },
        {
          "name": "stdout",
          "output_type": "stream",
          "text": [
            "Confusion Matrix for Validation at Epoch 15:\n",
            "[[6 5 1 ... 0 2 0]\n",
            " [2 6 0 ... 1 2 1]\n",
            " [3 6 4 ... 1 2 0]\n",
            " ...\n",
            " [4 2 2 ... 2 1 2]\n",
            " [3 6 3 ... 1 5 1]\n",
            " [6 3 2 ... 1 1 3]]\n",
            "Epoch 15/50\n",
            "Train Loss: 2.9448, Train Image Accuracy: 0.1497\n",
            "Validation Loss: 3.5381, Validation Image Accuracy: 0.0655\n"
          ]
        },
        {
          "name": "stderr",
          "output_type": "stream",
          "text": [
            "100%|██████████| 250/250 [02:48<00:00,  1.48it/s]\n",
            "100%|██████████| 63/63 [00:19<00:00,  3.16it/s]\n"
          ]
        },
        {
          "name": "stdout",
          "output_type": "stream",
          "text": [
            "Confusion Matrix for Validation at Epoch 16:\n",
            "[[8 5 3 ... 3 5 2]\n",
            " [5 2 5 ... 0 0 2]\n",
            " [9 4 7 ... 0 0 3]\n",
            " ...\n",
            " [3 7 0 ... 4 0 2]\n",
            " [5 7 3 ... 4 3 0]\n",
            " [3 4 3 ... 0 1 1]]\n",
            "Epoch 16/50\n",
            "Train Loss: 2.9467, Train Image Accuracy: 0.1545\n",
            "Validation Loss: 3.5695, Validation Image Accuracy: 0.0525\n"
          ]
        },
        {
          "name": "stderr",
          "output_type": "stream",
          "text": [
            "100%|██████████| 250/250 [02:48<00:00,  1.49it/s]\n",
            "100%|██████████| 63/63 [00:19<00:00,  3.18it/s]\n"
          ]
        },
        {
          "name": "stdout",
          "output_type": "stream",
          "text": [
            "Confusion Matrix for Validation at Epoch 17:\n",
            "[[6 4 1 ... 1 5 0]\n",
            " [3 6 0 ... 2 1 2]\n",
            " [3 5 7 ... 1 2 1]\n",
            " ...\n",
            " [5 7 1 ... 3 1 1]\n",
            " [7 3 2 ... 3 3 2]\n",
            " [1 3 2 ... 1 2 4]]\n",
            "Epoch 17/50\n",
            "Train Loss: 2.9293, Train Image Accuracy: 0.1559\n",
            "Validation Loss: 3.5547, Validation Image Accuracy: 0.0515\n"
          ]
        },
        {
          "name": "stderr",
          "output_type": "stream",
          "text": [
            "100%|██████████| 250/250 [02:51<00:00,  1.46it/s]\n",
            "100%|██████████| 63/63 [00:20<00:00,  3.11it/s]\n"
          ]
        },
        {
          "name": "stdout",
          "output_type": "stream",
          "text": [
            "Confusion Matrix for Validation at Epoch 18:\n",
            "[[12  3  3 ...  2  2  0]\n",
            " [ 7 12  1 ...  2  1  2]\n",
            " [10  5  5 ...  0  2  3]\n",
            " ...\n",
            " [ 8  4  3 ...  6  2  1]\n",
            " [ 6  4  7 ...  1  3  1]\n",
            " [ 7  6  5 ...  2  0  2]]\n",
            "Epoch 18/50\n",
            "Train Loss: 2.9268, Train Image Accuracy: 0.1613\n",
            "Validation Loss: 3.5376, Validation Image Accuracy: 0.0600\n"
          ]
        },
        {
          "name": "stderr",
          "output_type": "stream",
          "text": [
            "100%|██████████| 250/250 [02:55<00:00,  1.42it/s]\n",
            "100%|██████████| 63/63 [00:20<00:00,  3.08it/s]\n"
          ]
        },
        {
          "name": "stdout",
          "output_type": "stream",
          "text": [
            "Confusion Matrix for Validation at Epoch 19:\n",
            "[[11  5  1 ...  2  2  1]\n",
            " [ 9  5  4 ...  1  2  3]\n",
            " [ 5  1  6 ...  4  1  2]\n",
            " ...\n",
            " [ 7  4  3 ...  0  1  3]\n",
            " [10  2  2 ...  0  2  2]\n",
            " [10  4  5 ...  2  0  3]]\n",
            "Epoch 19/50\n",
            "Train Loss: 2.9199, Train Image Accuracy: 0.1600\n",
            "Validation Loss: 3.5280, Validation Image Accuracy: 0.0615\n"
          ]
        },
        {
          "name": "stderr",
          "output_type": "stream",
          "text": [
            "100%|██████████| 250/250 [03:03<00:00,  1.36it/s]\n",
            "100%|██████████| 63/63 [00:21<00:00,  2.93it/s]\n"
          ]
        },
        {
          "name": "stdout",
          "output_type": "stream",
          "text": [
            "Confusion Matrix for Validation at Epoch 20:\n",
            "[[12  2  4 ...  0  1  1]\n",
            " [11  9  2 ...  0  2  2]\n",
            " [ 8  4  4 ...  0  0  3]\n",
            " ...\n",
            " [ 8  4  1 ...  1  1  1]\n",
            " [15  6  2 ...  0  2  0]\n",
            " [ 9  2  1 ...  0  0  3]]\n",
            "Epoch 20/50\n",
            "Train Loss: 2.9157, Train Image Accuracy: 0.1643\n",
            "Validation Loss: 3.5209, Validation Image Accuracy: 0.0600\n"
          ]
        },
        {
          "name": "stderr",
          "output_type": "stream",
          "text": [
            "100%|██████████| 250/250 [03:02<00:00,  1.37it/s]\n",
            "100%|██████████| 63/63 [00:19<00:00,  3.16it/s]\n"
          ]
        },
        {
          "name": "stdout",
          "output_type": "stream",
          "text": [
            "Confusion Matrix for Validation at Epoch 21:\n",
            "[[ 8  4  5 ...  1  0  3]\n",
            " [ 4  9  0 ...  2  1  5]\n",
            " [ 6 10  1 ...  2  0  4]\n",
            " ...\n",
            " [ 3  2  4 ...  6  0  0]\n",
            " [ 5  2  3 ...  1  1  2]\n",
            " [ 5  5  4 ...  1  2  3]]\n",
            "Epoch 21/50\n",
            "Train Loss: 2.9118, Train Image Accuracy: 0.1639\n",
            "Validation Loss: 3.5761, Validation Image Accuracy: 0.0540\n"
          ]
        },
        {
          "name": "stderr",
          "output_type": "stream",
          "text": [
            "100%|██████████| 250/250 [02:56<00:00,  1.42it/s]\n",
            "100%|██████████| 63/63 [00:20<00:00,  3.03it/s]\n"
          ]
        },
        {
          "name": "stdout",
          "output_type": "stream",
          "text": [
            "Confusion Matrix for Validation at Epoch 22:\n",
            "[[8 2 0 ... 2 2 1]\n",
            " [9 3 2 ... 2 1 1]\n",
            " [9 5 5 ... 0 0 0]\n",
            " ...\n",
            " [5 1 5 ... 0 2 1]\n",
            " [6 5 6 ... 0 3 0]\n",
            " [9 3 4 ... 0 2 1]]\n",
            "Epoch 22/50\n",
            "Train Loss: 2.9084, Train Image Accuracy: 0.1690\n",
            "Validation Loss: 3.5421, Validation Image Accuracy: 0.0550\n"
          ]
        },
        {
          "name": "stderr",
          "output_type": "stream",
          "text": [
            "100%|██████████| 250/250 [03:03<00:00,  1.36it/s]\n",
            "100%|██████████| 63/63 [00:20<00:00,  3.05it/s]\n"
          ]
        },
        {
          "name": "stdout",
          "output_type": "stream",
          "text": [
            "Confusion Matrix for Validation at Epoch 23:\n",
            "[[7 4 4 ... 1 2 0]\n",
            " [8 6 2 ... 0 1 2]\n",
            " [3 5 3 ... 0 1 1]\n",
            " ...\n",
            " [4 2 8 ... 2 0 2]\n",
            " [7 2 5 ... 3 3 0]\n",
            " [2 6 4 ... 1 0 6]]\n",
            "Epoch 23/50\n",
            "Train Loss: 2.9086, Train Image Accuracy: 0.1709\n",
            "Validation Loss: 3.5431, Validation Image Accuracy: 0.0590\n"
          ]
        },
        {
          "name": "stderr",
          "output_type": "stream",
          "text": [
            "100%|██████████| 250/250 [02:53<00:00,  1.44it/s]\n",
            "100%|██████████| 63/63 [00:19<00:00,  3.16it/s]\n"
          ]
        },
        {
          "name": "stdout",
          "output_type": "stream",
          "text": [
            "Confusion Matrix for Validation at Epoch 24:\n",
            "[[9 0 4 ... 3 0 3]\n",
            " [3 9 2 ... 0 0 3]\n",
            " [3 5 3 ... 1 1 2]\n",
            " ...\n",
            " [4 3 2 ... 3 1 2]\n",
            " [6 3 3 ... 2 1 4]\n",
            " [6 5 5 ... 0 1 6]]\n",
            "Epoch 24/50\n",
            "Train Loss: 2.9033, Train Image Accuracy: 0.1679\n",
            "Validation Loss: 3.5736, Validation Image Accuracy: 0.0555\n"
          ]
        },
        {
          "name": "stderr",
          "output_type": "stream",
          "text": [
            "100%|██████████| 250/250 [02:49<00:00,  1.48it/s]\n",
            "100%|██████████| 63/63 [00:20<00:00,  3.13it/s]\n"
          ]
        },
        {
          "name": "stdout",
          "output_type": "stream",
          "text": [
            "Confusion Matrix for Validation at Epoch 25:\n",
            "[[13  2  0 ...  0  2  2]\n",
            " [ 9  6  6 ...  0  1  1]\n",
            " [11  6  9 ...  0  1  0]\n",
            " ...\n",
            " [ 5  4  4 ...  5  0  2]\n",
            " [11  7  2 ...  2  4  1]\n",
            " [ 8  3  3 ...  1  1  2]]\n",
            "Epoch 25/50\n",
            "Train Loss: 2.9016, Train Image Accuracy: 0.1706\n",
            "Validation Loss: 3.5740, Validation Image Accuracy: 0.0640\n"
          ]
        },
        {
          "name": "stderr",
          "output_type": "stream",
          "text": [
            "100%|██████████| 250/250 [02:49<00:00,  1.48it/s]\n",
            "100%|██████████| 63/63 [00:19<00:00,  3.16it/s]\n"
          ]
        },
        {
          "name": "stdout",
          "output_type": "stream",
          "text": [
            "Confusion Matrix for Validation at Epoch 26:\n",
            "[[7 3 6 ... 1 1 0]\n",
            " [3 7 3 ... 1 1 2]\n",
            " [7 4 7 ... 0 0 1]\n",
            " ...\n",
            " [6 3 5 ... 1 1 0]\n",
            " [6 5 2 ... 3 1 0]\n",
            " [3 7 2 ... 2 2 0]]\n",
            "Epoch 26/50\n",
            "Train Loss: 2.9035, Train Image Accuracy: 0.1724\n",
            "Validation Loss: 3.5335, Validation Image Accuracy: 0.0540\n"
          ]
        },
        {
          "name": "stderr",
          "output_type": "stream",
          "text": [
            "100%|██████████| 250/250 [02:49<00:00,  1.47it/s]\n",
            "100%|██████████| 63/63 [00:20<00:00,  3.14it/s]\n"
          ]
        },
        {
          "name": "stdout",
          "output_type": "stream",
          "text": [
            "Confusion Matrix for Validation at Epoch 27:\n",
            "[[9 0 5 ... 1 1 0]\n",
            " [5 3 4 ... 1 0 1]\n",
            " [8 5 8 ... 1 1 2]\n",
            " ...\n",
            " [8 4 4 ... 5 1 1]\n",
            " [4 4 5 ... 1 2 0]\n",
            " [7 6 6 ... 3 0 0]]\n",
            "Epoch 27/50\n",
            "Train Loss: 2.8961, Train Image Accuracy: 0.1736\n",
            "Validation Loss: 3.5381, Validation Image Accuracy: 0.0515\n"
          ]
        },
        {
          "name": "stderr",
          "output_type": "stream",
          "text": [
            "100%|██████████| 250/250 [02:49<00:00,  1.48it/s]\n",
            "100%|██████████| 63/63 [00:19<00:00,  3.16it/s]\n"
          ]
        },
        {
          "name": "stdout",
          "output_type": "stream",
          "text": [
            "Confusion Matrix for Validation at Epoch 28:\n",
            "[[20  3  2 ...  0  1  1]\n",
            " [ 5  7  2 ...  1  2  1]\n",
            " [ 9  5  5 ...  1  0  1]\n",
            " ...\n",
            " [10  2  3 ...  4  0  1]\n",
            " [ 8  6  3 ...  1  1  3]\n",
            " [14  7  3 ...  0  2  5]]\n",
            "Epoch 28/50\n",
            "Train Loss: 2.8971, Train Image Accuracy: 0.1720\n",
            "Validation Loss: 3.5602, Validation Image Accuracy: 0.0650\n"
          ]
        },
        {
          "name": "stderr",
          "output_type": "stream",
          "text": [
            "100%|██████████| 250/250 [02:49<00:00,  1.48it/s]\n",
            "100%|██████████| 63/63 [00:19<00:00,  3.16it/s]\n"
          ]
        },
        {
          "name": "stdout",
          "output_type": "stream",
          "text": [
            "Confusion Matrix for Validation at Epoch 29:\n",
            "[[8 5 2 ... 0 2 2]\n",
            " [6 7 1 ... 1 3 1]\n",
            " [8 5 3 ... 0 2 2]\n",
            " ...\n",
            " [6 4 3 ... 2 6 2]\n",
            " [1 7 2 ... 2 4 1]\n",
            " [5 3 5 ... 0 2 5]]\n",
            "Epoch 29/50\n",
            "Train Loss: 2.8913, Train Image Accuracy: 0.1756\n",
            "Validation Loss: 3.5933, Validation Image Accuracy: 0.0545\n"
          ]
        },
        {
          "name": "stderr",
          "output_type": "stream",
          "text": [
            "100%|██████████| 250/250 [02:49<00:00,  1.48it/s]\n",
            "100%|██████████| 63/63 [00:19<00:00,  3.16it/s]\n"
          ]
        },
        {
          "name": "stdout",
          "output_type": "stream",
          "text": [
            "Confusion Matrix for Validation at Epoch 30:\n",
            "[[14  1  3 ...  1  2  0]\n",
            " [10  3  2 ...  0  0  2]\n",
            " [10  1  3 ...  0  0  1]\n",
            " ...\n",
            " [ 6  5  3 ...  3  0  2]\n",
            " [ 7  5  1 ...  1  2  0]\n",
            " [10  1  3 ...  1  2  2]]\n",
            "Epoch 30/50\n",
            "Train Loss: 2.8896, Train Image Accuracy: 0.1737\n",
            "Validation Loss: 3.5689, Validation Image Accuracy: 0.0520\n"
          ]
        },
        {
          "name": "stderr",
          "output_type": "stream",
          "text": [
            "100%|██████████| 250/250 [02:49<00:00,  1.48it/s]\n",
            "100%|██████████| 63/63 [00:19<00:00,  3.17it/s]\n"
          ]
        },
        {
          "name": "stdout",
          "output_type": "stream",
          "text": [
            "Confusion Matrix for Validation at Epoch 31:\n",
            "[[10  4  2 ...  1  0  2]\n",
            " [ 4  4  4 ...  1  0  1]\n",
            " [ 5  5  4 ...  1  4  0]\n",
            " ...\n",
            " [ 4  3  2 ...  0  3  2]\n",
            " [ 4  2  3 ...  1  7  0]\n",
            " [ 4  3  2 ...  1  3  2]]\n",
            "Epoch 31/50\n",
            "Train Loss: 2.8889, Train Image Accuracy: 0.1791\n",
            "Validation Loss: 3.5375, Validation Image Accuracy: 0.0560\n"
          ]
        },
        {
          "name": "stderr",
          "output_type": "stream",
          "text": [
            "100%|██████████| 250/250 [02:49<00:00,  1.48it/s]\n",
            "100%|██████████| 63/63 [00:20<00:00,  3.14it/s]\n"
          ]
        },
        {
          "name": "stdout",
          "output_type": "stream",
          "text": [
            "Confusion Matrix for Validation at Epoch 32:\n",
            "[[11  2  4 ...  4  2  0]\n",
            " [ 9  9  2 ...  2  3  0]\n",
            " [ 8  4  6 ...  1  1  0]\n",
            " ...\n",
            " [ 6  2  3 ...  1  1  2]\n",
            " [ 8  8  5 ...  0  2  0]\n",
            " [ 5  6  6 ...  1  1  3]]\n",
            "Epoch 32/50\n",
            "Train Loss: 2.8864, Train Image Accuracy: 0.1729\n",
            "Validation Loss: 3.5446, Validation Image Accuracy: 0.0550\n"
          ]
        },
        {
          "name": "stderr",
          "output_type": "stream",
          "text": [
            "100%|██████████| 250/250 [02:50<00:00,  1.46it/s]\n",
            "100%|██████████| 63/63 [00:20<00:00,  3.15it/s]\n"
          ]
        },
        {
          "name": "stdout",
          "output_type": "stream",
          "text": [
            "Confusion Matrix for Validation at Epoch 33:\n",
            "[[11  6  0 ...  0  2  1]\n",
            " [ 6  5  1 ...  1  3  1]\n",
            " [13  7  3 ...  2  0  2]\n",
            " ...\n",
            " [12  7  4 ...  2  1  0]\n",
            " [11  4  2 ...  2  2  2]\n",
            " [10  3  1 ...  1  0  2]]\n",
            "Epoch 33/50\n",
            "Train Loss: 2.8862, Train Image Accuracy: 0.1816\n",
            "Validation Loss: 3.5792, Validation Image Accuracy: 0.0490\n"
          ]
        },
        {
          "name": "stderr",
          "output_type": "stream",
          "text": [
            "100%|██████████| 250/250 [02:51<00:00,  1.46it/s]\n",
            "100%|██████████| 63/63 [00:21<00:00,  2.92it/s]\n"
          ]
        },
        {
          "name": "stdout",
          "output_type": "stream",
          "text": [
            "Confusion Matrix for Validation at Epoch 34:\n",
            "[[11  2  1 ...  3  1  1]\n",
            " [ 6  3  5 ...  0  1  1]\n",
            " [ 4  5  6 ...  1  0  0]\n",
            " ...\n",
            " [ 5  4  2 ...  2  1  1]\n",
            " [10  3  5 ...  1  4  1]\n",
            " [ 3  7  1 ...  1  3  2]]\n",
            "Epoch 34/50\n",
            "Train Loss: 2.8858, Train Image Accuracy: 0.1805\n",
            "Validation Loss: 3.5256, Validation Image Accuracy: 0.0600\n"
          ]
        },
        {
          "name": "stderr",
          "output_type": "stream",
          "text": [
            " 42%|████▏     | 104/250 [01:14<01:44,  1.40it/s]\n"
          ]
        },
        {
          "ename": "KeyboardInterrupt",
          "evalue": "",
          "output_type": "error",
          "traceback": [
            "\u001b[1;31m---------------------------------------------------------------------------\u001b[0m",
            "\u001b[1;31mKeyboardInterrupt\u001b[0m                         Traceback (most recent call last)",
            "\u001b[1;32mc:\\Users\\MMC\\Desktop\\yoongeol\\report\\CLIP_finetuning copy 3.ipynb Cell 5\u001b[0m in \u001b[0;36m<cell line: 24>\u001b[1;34m()\u001b[0m\n\u001b[0;32m     <a href='vscode-notebook-cell:/c%3A/Users/MMC/Desktop/yoongeol/report/CLIP_finetuning%20copy%203.ipynb#X56sZmlsZQ%3D%3D?line=49'>50</a>\u001b[0m logit \u001b[39m=\u001b[39m model(images,input_ids,attention_mask)\n\u001b[0;32m     <a href='vscode-notebook-cell:/c%3A/Users/MMC/Desktop/yoongeol/report/CLIP_finetuning%20copy%203.ipynb#X56sZmlsZQ%3D%3D?line=50'>51</a>\u001b[0m total_loss \u001b[39m=\u001b[39m (loss_img(logit,ground_truth) \u001b[39m+\u001b[39m loss_txt(logit\u001b[39m.\u001b[39mT,ground_truth))\u001b[39m/\u001b[39m\u001b[39m2\u001b[39m\n\u001b[1;32m---> <a href='vscode-notebook-cell:/c%3A/Users/MMC/Desktop/yoongeol/report/CLIP_finetuning%20copy%203.ipynb#X56sZmlsZQ%3D%3D?line=51'>52</a>\u001b[0m total_loss_epoch \u001b[39m+\u001b[39m\u001b[39m=\u001b[39m total_loss\u001b[39m.\u001b[39mitem()\n\u001b[0;32m     <a href='vscode-notebook-cell:/c%3A/Users/MMC/Desktop/yoongeol/report/CLIP_finetuning%20copy%203.ipynb#X56sZmlsZQ%3D%3D?line=52'>53</a>\u001b[0m total_loss\u001b[39m.\u001b[39mbackward()\n\u001b[0;32m     <a href='vscode-notebook-cell:/c%3A/Users/MMC/Desktop/yoongeol/report/CLIP_finetuning%20copy%203.ipynb#X56sZmlsZQ%3D%3D?line=53'>54</a>\u001b[0m   \u001b[39m# convert_models_to_fp32(model)\u001b[39;00m\n",
            "\u001b[1;31mKeyboardInterrupt\u001b[0m: "
          ]
        }
      ],
      "source": [
        "tokenizer = GPT2Tokenizer.from_pretrained('gpt2')\n",
        "tokenizer.pad_token = tokenizer.eos_token\n",
        "\n",
        "valid_loss_min = np.Inf\n",
        "\n",
        "# add your own code to track the training progress.\n",
        "for epoch in range(EPOCH):\n",
        "  total_loss_epoch = 0.0\n",
        "  total_acc_img_epoch = 0.0\n",
        "  total_acc_txt_epoch = 0.0\n",
        "  total_val_loss = 0.0\n",
        "  total_val_acc = 0.0\n",
        "  train_preds = []\n",
        "  train_targets = []\n",
        "\n",
        "  total_train_correct = 0  # 정확하게 예측된 총 샘플 수\n",
        "  total_train_samples = 0  # 데이터셋의 총 샘플 수\n",
        "  # for batch in train_dataloader :\n",
        "  model.train()\n",
        "  for images, texts in tqdm(train_dataloader):\n",
        "      optimizer.zero_grad()\n",
        "\n",
        "\n",
        "\n",
        "      # images,texts = batch\n",
        "      images= images.to(device)\n",
        "      texts = tokenizer(texts, return_tensors=\"pt\", padding=True, truncation=True)\n",
        "      input_ids = texts['input_ids'].to(device)\n",
        "      attention_mask = texts['attention_mask'].to(device)\n",
        "\n",
        "      ground_truth = torch.arange(len(images),dtype=torch.long,device=device)\n",
        "\n",
        "      logit = model(images,input_ids,attention_mask)\n",
        "      total_loss = (loss_img(logit,ground_truth) + loss_txt(logit.T,ground_truth))/2\n",
        "      total_loss_epoch += total_loss.item()\n",
        "      total_loss.backward()\n",
        "      optimizer.step()\n",
        "\n",
        "      _, predicted = logit.max(1)\n",
        "      total_train_correct += (predicted == ground_truth).sum().item()\n",
        "      total_train_samples += ground_truth.size(0)\n",
        "      train_preds.extend(predicted.cpu().numpy())\n",
        "      train_targets.extend(ground_truth.cpu().numpy())\n",
        "\n",
        "  avg_train_loss = total_loss_epoch / len(train_dataloader)\n",
        "  avg_train_acc_img = total_train_correct / total_train_samples  # 평균 정확도 계산     \n",
        "\n",
        "  ######################    \n",
        "  # validate the model #\n",
        "  ######################\n",
        "  valid_preds = []\n",
        "  valid_targets = []\n",
        "\n",
        "  total_val_correct = 0  # 정확하게 예측된 총 샘플 수\n",
        "  total_val_samples = 0  # 검증 데이터셋의 총 샘플 수\n",
        "  with torch.no_grad(): \n",
        "    model.eval()  # 모델을 평가 모드로 설정\n",
        "\n",
        "    for images, texts in tqdm(valid_dataloader):\n",
        "        # images, texts = batch\n",
        "        images= images.to(device)\n",
        "        texts = tokenizer(texts, return_tensors=\"pt\", padding=True, truncation=True)\n",
        "        input_ids = texts['input_ids'].to(device)\n",
        "        attention_mask = texts['attention_mask'].to(device)\n",
        "        ground_truth = torch.arange(len(images),dtype=torch.long,device=device)\n",
        "\n",
        "        logit = model(images,input_ids,attention_mask)\n",
        "        total_loss = (loss_img(logit,ground_truth) + loss_txt(logit.T,ground_truth))/2\n",
        "        total_val_loss += total_loss.item()\n",
        "        _, predicted = logit.max(1)\n",
        "        total_val_correct += (predicted == ground_truth).sum().item()\n",
        "        total_val_samples += ground_truth.size(0)\n",
        "        valid_preds.extend(predicted.cpu().numpy())\n",
        "        valid_targets.extend(ground_truth.cpu().numpy())\n",
        "\n",
        "    avg_val_loss = total_val_loss / len(valid_dataloader)\n",
        "    avg_val_acc = total_val_correct / total_val_samples  # 평균 정확도 계산     \n",
        "    cm = confusion_matrix(valid_targets, valid_preds)\n",
        "    print(f\"Confusion Matrix for Validation at Epoch {epoch + 1}:\\n{cm}\")\n",
        " # epoch 결과 출력\n",
        "  print(f\"Epoch {epoch + 1}/{EPOCH}\") \n",
        "  print(f\"Train Loss: {avg_train_loss:.4f}, Train Image Accuracy: {avg_train_acc_img:.4f}\")\n",
        "  print(f\"Validation Loss: {avg_val_loss:.4f}, Validation Image Accuracy: {avg_val_acc:.4f}\")\n",
        "\n",
        " # 검증 손실이 이전 최저 손실보다 낮으면 모델 저장\n",
        "  if avg_val_loss < valid_loss_min:\n",
        "      valid_loss_min = avg_val_loss \n",
        "      print('=====================================================================')\n",
        "      print(f\"New best model found at epoch {epoch + 1} with Validation Loss: {avg_val_loss:.4f}. Saving model.\")\n",
        "      torch.save(model.state_dict(), 'clip_model.pt')\n",
        "\n",
        "   \n"
      ]
    },
    {
      "cell_type": "code",
      "execution_count": 33,
      "metadata": {},
      "outputs": [
        {
          "name": "stderr",
          "output_type": "stream",
          "text": [
            "Clipping input data to the valid range for imshow with RGB data ([0..1] for floats or [0..255] for integers).\n"
          ]
        },
        {
          "data": {
            "image/png": "[encoded data removed]",
            "text/plain": [
              "<Figure size 640x480 with 1 Axes>"
            ]
          },
          "metadata": {},
          "output_type": "display_data"
        }
      ],
      "source": [
        "Test_df = image_caption_dataset(test_df)\n",
        "test_dataloader = DataLoader(Train_df, batch_size = 4, shuffle = True) #Define your own dataloader\n",
        "test_image, test_text= next(iter(test_dataloader))\n",
        "plt.imshow(test_image[0].permute(1,2,0))\n",
        "test_image = test_image[0].to(device)"
      ]
    },
    {
      "cell_type": "code",
      "execution_count": 34,
      "metadata": {},
      "outputs": [
        {
          "name": "stdout",
          "output_type": "stream",
          "text": [
            "tensor([[1.6033, 1.6261, 1.6196, 1.6769]], device='cuda:0')\n",
            "(' A hiker poses in a green field with sheep .', ' A man in a white shirt and blue hat is speaking .', ' A person with long gray hair has a beret with beige and white wearing a blue raincoat is painting a marketplace scenery surrounded by other artists and paintings .', ' A man stands among cement fixtures in front of a donut shop .')\n",
            "Predicted class:  A man stands among cement fixtures in front of a donut shop .\n"
          ]
        }
      ],
      "source": [
        "from transformers import GPT2Tokenizer\n",
        "import torch\n",
        "\n",
        "\n",
        "# GPT2 토크나이저 인스턴스화\n",
        "tokenizer = GPT2Tokenizer.from_pretrained('gpt2')\n",
        "tokenizer.pad_token = tokenizer.eos_token\n",
        "# 클래스 이름 정의 (예시)\n",
        "# class_names = ['dog', 'cat', 'horse']\n",
        "class_names = test_text\n",
        "\n",
        "\n",
        "# 클래스 이름을 텍스트 특성으로 변환\n",
        "class_text_features = []\n",
        "for class_name in class_names:\n",
        "    inputs = tokenizer(class_name, return_tensors=\"pt\", padding=True, truncation=True).to('cuda')\n",
        "    with torch.no_grad():\n",
        "        class_text_feature = model.text_feature(**inputs)  # 클래스 이름의 텍스트 특성\n",
        "    class_text_features.append(class_text_feature)\n",
        "class_text_features = torch.cat(class_text_features, dim=0)  # [클래스 수, 특성 차원]\n",
        "\n",
        "# 이미지 준비 (예시)\n",
        "# image = YOUR_IMAGE_TENSOR.to('cuda')  # 이미지 텐서를 GPU로 이동\n",
        "\n",
        "# 이미지 특성 추출\n",
        "with torch.no_grad():\n",
        "    image_feature = model.img_feature(test_image.unsqueeze(0))  # 이미지 배치 차원 추가\n",
        "\n",
        "# 이미지와 각 클래스 간의 유사도 계산\n",
        "I_e = F.normalize(image_feature, p=2, dim=1)\n",
        "T_e = F.normalize(class_text_features, p=2, dim=1)\n",
        "logits = torch.matmul(I_e, T_e.T) * torch.exp(torch.tensor(1.0, device='cuda'))\n",
        "\n",
        "# 가장 높은 유사도를 가진 클래스 선택\n",
        "predicted_class_idx = logits.argmax(dim=1).item()\n",
        "predicted_class_name = class_names[predicted_class_idx]\n",
        "print(logits)\n",
        "print(test_text)\n",
        "print(f\"Predicted class: {predicted_class_name}\")\n"
      ]
    },
    {
      "cell_type": "code",
      "execution_count": 35,
      "metadata": {},
      "outputs": [
        {
          "data": {
            "text/plain": [
              "(' A hiker poses in a green field with sheep .',\n",
              " ' A man in a white shirt and blue hat is speaking .',\n",
              " ' A person with long gray hair has a beret with beige and white wearing a blue raincoat is painting a marketplace scenery surrounded by other artists and paintings .',\n",
              " ' A man stands among cement fixtures in front of a donut shop .')"
            ]
          },
          "execution_count": 35,
          "metadata": {},
          "output_type": "execute_result"
        }
      ],
      "source": [
        "test_text"
      ]
    }
  ],
  "metadata": {
    "accelerator": "GPU",
    "colab": {
      "gpuType": "T4",
      "provenance": []
    },
    "kernelspec": {
      "display_name": "Python 3",
      "name": "python3"
    },
    "language_info": {
      "codemirror_mode": {
        "name": "ipython",
        "version": 3
      },
      "file_extension": ".py",
      "mimetype": "text/x-python",
      "name": "python",
      "nbconvert_exporter": "python",
      "pygments_lexer": "ipython3",
      "version": "3.8.16"
    }
  },
  "nbformat": 4,
  "nbformat_minor": 0
}
